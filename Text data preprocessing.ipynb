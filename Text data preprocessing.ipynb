{
 "cells": [
  {
   "cell_type": "markdown",
   "id": "9ac7be90",
   "metadata": {},
   "source": [
    "Imports and initialization."
   ]
  },
  {
   "cell_type": "code",
   "execution_count": 1,
   "id": "2af4c3cd",
   "metadata": {},
   "outputs": [
    {
     "name": "stdout",
     "output_type": "stream",
     "text": [
      "22/07/06 12:04:52 WARN Utils: Your hostname, ThinkPad-X1-Gen6 resolves to a loopback address: 127.0.1.1; using 192.168.0.16 instead (on interface wlp2s0)\n",
      "22/07/06 12:04:52 WARN Utils: Set SPARK_LOCAL_IP if you need to bind to another address\n"
     ]
    },
    {
     "name": "stderr",
     "output_type": "stream",
     "text": [
      "Setting default log level to \"WARN\".\n",
      "To adjust logging level use sc.setLogLevel(newLevel). For SparkR, use setLogLevel(newLevel).\n"
     ]
    },
    {
     "name": "stdout",
     "output_type": "stream",
     "text": [
      "22/07/06 12:04:53 WARN NativeCodeLoader: Unable to load native-hadoop library for your platform... using builtin-java classes where applicable\n"
     ]
    }
   ],
   "source": [
    "# imports\n",
    "import json\n",
    "import findspark\n",
    "import pyspark\n",
    "from pyspark.sql import SparkSession\n",
    "from transformers import BertTokenizer\n",
    "\n",
    "# initialization\n",
    "findspark.init()\n",
    "tokenizer = BertTokenizer.from_pretrained('bert-base-uncased', local_files_only=True)\n",
    "spark = (\n",
    "    SparkSession\n",
    "    .builder\n",
    "    .appName(\"Preprocessing\")\n",
    "    .getOrCreate()\n",
    ")\n",
    "sc = spark.sparkContext"
   ]
  },
  {
   "cell_type": "markdown",
   "id": "3d518b3a",
   "metadata": {},
   "source": [
    "Read the lines of the text file."
   ]
  },
  {
   "cell_type": "code",
   "execution_count": 2,
   "id": "1054f43e",
   "metadata": {},
   "outputs": [
    {
     "name": "stderr",
     "output_type": "stream",
     "text": [
      "[Stage 0:===============================>                         (22 + 8) / 40]\r"
     ]
    },
    {
     "name": "stdout",
     "output_type": "stream",
     "text": [
      "Number of lines: 36718\n"
     ]
    },
    {
     "name": "stderr",
     "output_type": "stream",
     "text": [
      "\r",
      "                                                                                \r"
     ]
    }
   ],
   "source": [
    "# Load a text file and convert each line to a Row.\n",
    "lines = sc.textFile(\"wikitext-2/wiki.train.tokens\", 40)\n",
    "print(f'Number of lines: {lines.count()}')"
   ]
  },
  {
   "cell_type": "markdown",
   "id": "0666be21",
   "metadata": {},
   "source": [
    "Preprocessing functions: Lower-casing, stopword removal, transforming to input IDs."
   ]
  },
  {
   "cell_type": "code",
   "execution_count": 3,
   "id": "ae477655",
   "metadata": {},
   "outputs": [],
   "source": [
    "def lowercase(text):\n",
    "    return text.lower()\n",
    "\n",
    "def remove_stopwords(text):\n",
    "    from nltk.corpus import stopwords\n",
    "    return ' '.join([t for t in text.split() if t not in stopwords.words('english')])\n",
    "\n",
    "def encode(tokenizer, text):\n",
    "    return tokenizer(text)"
   ]
  },
  {
   "cell_type": "markdown",
   "id": "a27cfd0c",
   "metadata": {},
   "source": [
    "We apply the preprocessing functions. Spark will take care of distributing the processing."
   ]
  },
  {
   "cell_type": "code",
   "execution_count": 4,
   "id": "5e20e4ce",
   "metadata": {},
   "outputs": [],
   "source": [
    "output = (\n",
    "    lines\n",
    "    .filter(lambda l: l.strip())                      # remove empty lines\n",
    "    .filter(lambda l: not l.strip().startswith('='))  # remove comment lines starting with '='\n",
    "    .map(lowercase)                                   # lowercase\n",
    "    .map(str.strip)                                   # strip whitespace\n",
    "    .map(remove_stopwords)                            # remove stopwords\n",
    "    .map(lambda l: encode(tokenizer, l))              # encode words to IDs read by the BERT model\n",
    ")"
   ]
  },
  {
   "cell_type": "markdown",
   "id": "ed853e0b",
   "metadata": {},
   "source": [
    "Computation only gets started once the output is required (*lazy evaluation*)."
   ]
  },
  {
   "cell_type": "code",
   "execution_count": 5,
   "id": "30144179",
   "metadata": {},
   "outputs": [
    {
     "name": "stderr",
     "output_type": "stream",
     "text": [
      "Token indices sequence length is longer than the specified maximum sequence length for this model (796 > 512). Running this sequence through the model will result in indexing errors\n",
      "Token indices sequence length is longer than the specified maximum sequence length for this model (591 > 512). Running this sequence through the model will result in indexing errors\n",
      "Token indices sequence length is longer than the specified maximum sequence length for this model (517 > 512). Running this sequence through the model will result in indexing errors\n",
      "                                                                                \r"
     ]
    },
    {
     "name": "stdout",
     "output_type": "stream",
     "text": [
      "[101, 12411, 5558, 11748, 4801, 4360, 1017, 1024, 1026, 4895]\n"
     ]
    }
   ],
   "source": [
    "output_ids = output.collect()\n",
    "print(output_ids[0]['input_ids'][:10])"
   ]
  },
  {
   "cell_type": "markdown",
   "id": "397ad13c",
   "metadata": {},
   "source": [
    "Now we can write the output IDs to a JSON file."
   ]
  },
  {
   "cell_type": "code",
   "execution_count": 6,
   "id": "03fc4c22",
   "metadata": {},
   "outputs": [],
   "source": [
    "output_ids = [dict(oids) for oids in output_ids]\n",
    "with open('output_ids.json', 'w') as f:\n",
    "    json.dump(output_ids, f)"
   ]
  },
  {
   "cell_type": "markdown",
   "id": "57e5251b",
   "metadata": {},
   "source": [
    "We can now stop the Spark session."
   ]
  },
  {
   "cell_type": "code",
   "execution_count": 7,
   "id": "cd9293bf",
   "metadata": {},
   "outputs": [],
   "source": [
    "spark.stop()"
   ]
  }
 ],
 "metadata": {
  "kernelspec": {
   "display_name": "Python 3",
   "language": "python",
   "name": "python3"
  },
  "language_info": {
   "codemirror_mode": {
    "name": "ipython",
    "version": 3
   },
   "file_extension": ".py",
   "mimetype": "text/x-python",
   "name": "python",
   "nbconvert_exporter": "python",
   "pygments_lexer": "ipython3",
   "version": "3.8.13"
  }
 },
 "nbformat": 4,
 "nbformat_minor": 5
}
